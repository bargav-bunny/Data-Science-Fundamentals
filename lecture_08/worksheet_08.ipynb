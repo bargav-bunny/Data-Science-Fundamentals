{
 "cells": [
  {
   "attachments": {},
   "cell_type": "markdown",
   "metadata": {},
   "source": [
    "# Worksheet 08\n",
    "\n",
    "Name: Bargav Jagatha\n",
    "\n",
    "UID: U80005052\n",
    "\n",
    "### Topics\n",
    "\n",
    "- Soft Clustering\n",
    "- Clustering Aggregation\n",
    "\n",
    "### Probability Review\n",
    "\n",
    "Read through [the following](https://medium.com/@gallettilance/overview-of-probability-3272b72c82c8)\n",
    "\n",
    "### Soft Clustering\n",
    "\n",
    "We generate 10 data points that come from a normal distribution with mean 5 and variance 1."
   ]
  },
  {
   "cell_type": "code",
   "execution_count": 1,
   "metadata": {},
   "outputs": [
    {
     "name": "stdout",
     "output_type": "stream",
     "text": [
      "[3.6517306258853743, 5.516025245452042, 4.008384787827758, 4.23411694028567, 3.629984279341533, 5.455327214632914, 6.997556136918242, 5.251499336629243, 5.156428820428055, 5.064563289099195]\n"
     ]
    }
   ],
   "source": [
    "import random\n",
    "import numpy as np\n",
    "from sklearn.cluster import KMeans\n",
    "\n",
    "mean = 5\n",
    "stdev = 1\n",
    "\n",
    "s1 = np.random.normal(mean, stdev, 10).tolist()\n",
    "print(s1)"
   ]
  },
  {
   "cell_type": "markdown",
   "metadata": {},
   "source": [
    "a) Generate 10 more data points, this time coming from a normal distribution with mean 8 and variance 1."
   ]
  },
  {
   "cell_type": "code",
   "execution_count": 2,
   "metadata": {},
   "outputs": [
    {
     "name": "stdout",
     "output_type": "stream",
     "text": [
      "[7.015152616012864, 8.005013745820246, 7.340027499484982, 8.918221535960008, 8.705167879161756, 8.52788962937136, 6.513545950077837, 8.222202873157697, 7.160974002337633, 8.332715005252105]\n"
     ]
    }
   ],
   "source": [
    "s2 = np.random.normal( 8 , 1 , 10 ).tolist()\n",
    "print(s2)"
   ]
  },
  {
   "cell_type": "markdown",
   "metadata": {},
   "source": [
    "b) Flip a fair coin 10 times. If the coin lands on H, then pick the last data point of `c1` and remove it from `c1`, if T then pick the last data point from `c2` and remove it from `c2`. Add these 10 points to a list called `data`."
   ]
  },
  {
   "cell_type": "code",
   "execution_count": 3,
   "metadata": {},
   "outputs": [
    {
     "name": "stdout",
     "output_type": "stream",
     "text": [
      "[8.332715005252105, 7.160974002337633, 5.064563289099195, 8.222202873157697, 5.156428820428055, 6.513545950077837, 8.52788962937136, 5.251499336629243, 6.997556136918242, 5.455327214632914]\n"
     ]
    }
   ],
   "source": [
    "data = []\n",
    "for i in range(10):\n",
    "    # flip coin\n",
    "    coin_output = random.choice([0, 1])\n",
    "    # print(coin_output)\n",
    "    if coin_output == 0:\n",
    "        p1 = s1.pop()\n",
    "        data.append(p1)\n",
    "    else:\n",
    "        p2 = s2.pop()\n",
    "        data.append(p2)\n",
    "print(data)"
   ]
  },
  {
   "cell_type": "markdown",
   "metadata": {},
   "source": [
    "c) This `data` is a Gaussian Mixture Distribution with 2 mixture components. Over the next few questions we will walk through the GMM algorithm to see if we can uncover the parameters we used to generate this data. First, please list all these parameters of the GMM that created `data` and the values we know they have."
   ]
  },
  {
   "cell_type": "markdown",
   "metadata": {},
   "source": [
    "prior = 0.5, mean and variance"
   ]
  },
  {
   "cell_type": "markdown",
   "metadata": {},
   "source": [
    "d) Let's assume there are two mixture components (note: we could plot the data and make the observation that there are two clusters). The EM algorithm asks us to start with a random `mean_j`, `variance_j`, `P(S_j)` for each component j. One method we could use to find sensible values for these is to apply K means with k=2 here.\n",
    "\n",
    "1. the centroids would be the estimates of the `mean_j`\n",
    "2. the intra-cluster variance could be the estimate of `variance_j`\n",
    "3. the proportion of points in each cluster could be the estimate of `P(S_j)`\n",
    "\n",
    "Go through this process and list the parameter estimates it gives. Are they close or far from the true values?"
   ]
  },
  {
   "cell_type": "code",
   "execution_count": null,
   "metadata": {},
   "outputs": [],
   "source": []
  },
  {
   "cell_type": "code",
   "execution_count": 7,
   "metadata": {},
   "outputs": [
    {
     "name": "stdout",
     "output_type": "stream",
     "text": [
      "[8.332715005252105, 7.160974002337633, 8.222202873157697, 8.52788962937136, 6.997556136918242]\n",
      "[5.064563289099195, 5.156428820428055, 6.513545950077837, 5.251499336629243, 5.455327214632914]\n",
      "P(S_1) = 0.5,  P(S_2) = 0.5\n",
      "mean_1 = 7.848267529407407,  mean_2 = 5.488272922173449\n",
      "var_1 = 0.4064970925160448,  var_2 = 0.2795964586456331\n"
     ]
    },
    {
     "name": "stderr",
     "output_type": "stream",
     "text": [
      "/Users/bargav/anaconda3/envs/clean_ml/lib/python3.11/site-packages/sklearn/cluster/_kmeans.py:1416: FutureWarning: The default value of `n_init` will change from 10 to 'auto' in 1.4. Set the value of `n_init` explicitly to suppress the warning\n",
      "  super()._check_params_vs_input(X, default_n_init=10)\n"
     ]
    }
   ],
   "source": [
    "kmeans = KMeans(2, init='k-means++').fit(X=np.array(data).reshape(-1, 1))\n",
    "\n",
    "s1 = [x[0] for x in filter(lambda x: x[1] == 0, zip(data, kmeans.labels_))]\n",
    "print(s1)\n",
    "s2 = [x[0] for x in filter(lambda x: x[1] == 1, zip(data, kmeans.labels_))]\n",
    "print(s2)\n",
    "\n",
    "prob_c = [ len(s1) / (len(s1) + len(s2)) , len(s2) / (len(s1) + len(s2)) ]\n",
    "mean = [ sum(s1)/len(s1) , sum(s2)/len(s2) ]\n",
    "var = [ sum(map(lambda x : (x - mean[0])**2, s1)) / len(s1) , sum(map(lambda x : (x - mean[1])**2, s2)) / len(s2) ]\n",
    "\n",
    "print(\"P(S_1) = \" + str(prob_c[0]) + \",  P(S_2) = \" + str(prob_c[1]))\n",
    "print(\"mean_1 = \" + str(mean[0]) + \",  mean_2 = \" + str(mean[1]))\n",
    "print(\"var_1 = \" + str(var[0]) + \",  var_2 = \" + str(var[1]))"
   ]
  },
  {
   "cell_type": "markdown",
   "metadata": {},
   "source": []
  },
  {
   "cell_type": "markdown",
   "metadata": {},
   "source": [
    "e) For each data point, compute `P(S_j | X_i)`. Comment on which cluster you think each point belongs to based on the estimated probabilities. How does that compare to the truth?"
   ]
  },
  {
   "cell_type": "code",
   "execution_count": null,
   "metadata": {},
   "outputs": [],
   "source": []
  },
  {
   "cell_type": "code",
   "execution_count": 11,
   "metadata": {},
   "outputs": [
    {
     "name": "stdout",
     "output_type": "stream",
     "text": [
      "point =  8.332715005252105\n",
      "probability of observing that point if it came from cluster 0 =  0.4824357884761442\n",
      "probability of observing that point if it came from cluster 1 =  4.7877355935117623e-23\n",
      "point =  7.160974002337633\n",
      "probability of observing that point if it came from cluster 0 =  0.23501323464764745\n",
      "probability of observing that point if it came from cluster 1 =  2.4125164352775454e-08\n",
      "point =  5.064563289099195\n",
      "probability of observing that point if it came from cluster 0 =  6.436077660442039e-11\n",
      "probability of observing that point if it came from cluster 1 =  0.45257633945471093\n",
      "point =  8.222202873157697\n",
      "probability of observing that point if it came from cluster 0 =  0.6428363982542802\n",
      "probability of observing that point if it came from cluster 1 =  2.469123209408658e-21\n",
      "point =  5.156428820428055\n",
      "probability of observing that point if it came from cluster 0 =  2.948820193931935e-10\n",
      "probability of observing that point if it came from cluster 1 =  0.7054929683489384\n",
      "point =  6.513545950077837\n",
      "probability of observing that point if it came from cluster 0 =  0.004474537595913147\n",
      "probability of observing that point if it came from cluster 1 =  0.0017157913899318608\n",
      "point =  8.52788962937136\n",
      "probability of observing that point if it came from cluster 0 =  0.2425898223575709\n",
      "probability of observing that point if it came from cluster 1 =  3.0911874984478753e-26\n",
      "point =  5.251499336629243\n",
      "probability of observing that point if it came from cluster 0 =  1.3501504294303439e-09\n",
      "probability of observing that point if it came from cluster 1 =  0.9969048434061151\n",
      "point =  6.997556136918242\n",
      "probability of observing that point if it came from cluster 0 =  0.10985032868366902\n",
      "probability of observing that point if it came from cluster 1 =  6.712338256865251e-07\n",
      "point =  5.455327214632914\n",
      "probability of observing that point if it came from cluster 0 =  2.9302896073849978e-08\n",
      "probability of observing that point if it came from cluster 1 =  1.4169789223313831\n",
      "8.332715005252105\n",
      "Probability of coming from S_1 = 1.0\n",
      "Probability of coming from S_2 = 9.924088775906619e-23\n",
      "\n",
      "7.160974002337633\n",
      "Probability of coming from S_1 = 0.9999998973455179\n",
      "Probability of coming from S_2 = 1.0265448204391454e-07\n",
      "\n",
      "5.064563289099195\n",
      "Probability of coming from S_1 = 1.4220976879351027e-10\n",
      "Probability of coming from S_2 = 0.9999999998577902\n",
      "\n",
      "8.222202873157697\n",
      "Probability of coming from S_1 = 1.0\n",
      "Probability of coming from S_2 = 3.840982271871874e-21\n",
      "\n",
      "5.156428820428055\n",
      "Probability of coming from S_1 = 4.1798009689600394e-10\n",
      "Probability of coming from S_2 = 0.9999999995820199\n",
      "\n",
      "6.513545950077837\n",
      "Probability of coming from S_1 = 0.7228271075971502\n",
      "Probability of coming from S_2 = 0.27717289240284987\n",
      "\n",
      "8.52788962937136\n",
      "Probability of coming from S_1 = 1.0\n",
      "Probability of coming from S_2 = 1.2742445121591077e-25\n",
      "\n",
      "5.251499336629243\n",
      "Probability of coming from S_1 = 1.3543423291923553e-09\n",
      "Probability of coming from S_2 = 0.9999999986456577\n",
      "\n",
      "6.997556136918242\n",
      "Probability of coming from S_1 = 0.9999938895974894\n",
      "Probability of coming from S_2 = 6.110402510588575e-06\n",
      "\n",
      "5.455327214632914\n",
      "Probability of coming from S_1 = 2.0679838638430972e-08\n",
      "Probability of coming from S_2 = 0.9999999793201614\n",
      "\n"
     ]
    }
   ],
   "source": [
    "from scipy.stats import norm\n",
    "\n",
    "prob_c0_x = [] # P(S_0 | X_i)\n",
    "prob_c1_x = [] # P(S_1 | X_i)\n",
    "prob_x = [] # P(X_i)\n",
    "\n",
    "k = 2\n",
    "\n",
    "for p in data:\n",
    "    print(\"point = \", p)\n",
    "    pdf_i = []\n",
    "\n",
    "    for j in range(k):\n",
    "        # P(X_i | S_j)\n",
    "        pdf_i.append(norm.pdf(p, mean[j], var[j]))\n",
    "        print(\"probability of observing that point if it came from cluster \" + str(j) + \" = \", pdf_i[j])\n",
    "        # P(S_j) already computed\n",
    "        prob_c[j]\n",
    "\n",
    "    # P(X_i) = P(S_0)P(X_i | S_0) + P(S_1)P(X_i | S_1)\n",
    "    prob_x = prob_c[0] * pdf_i[0] + prob_c[1] * pdf_i[1]\n",
    "\n",
    "    # P(C_j | X_i) = P(X_i | C_j)P(C_j) / P(X_i)\n",
    "    prob_c0_x.append( pdf_i[0] * prob_c[0] / prob_x )\n",
    "    prob_c1_x.append( pdf_i[1] * prob_c[1] / prob_x )\n",
    "\n",
    "probs = zip(data, prob_c0_x, prob_c1_x)\n",
    "\n",
    "for p in probs:\n",
    "    print(p[0])\n",
    "    print(\"Probability of coming from S_1 = \" + str(p[1]))\n",
    "    print(\"Probability of coming from S_2 = \" + str(p[2]))\n",
    "    print()\n"
   ]
  },
  {
   "cell_type": "markdown",
   "metadata": {},
   "source": [
    "f) Having computed `P(S_j | X_i)`, update the estimates of `mean_j`, `var_j`, and `P(S_j)`. How different are these values from the original ones you got from K means? briefly comment."
   ]
  },
  {
   "cell_type": "code",
   "execution_count": 12,
   "metadata": {},
   "outputs": [
    {
     "name": "stdout",
     "output_type": "stream",
     "text": [
      "P(S_1) = 0.5722820917134529,  P(S_2) = 0.4277179082865472\n",
      "mean_1 = 7.679684982725497,  mean_2 = 5.31500785011061\n",
      "var_1 = 0.5517456215633024,  var_2 = 0.11918307830231394\n"
     ]
    }
   ],
   "source": [
    "prob_c = [sum(prob_c0_x)/ len(prob_c0_x), sum(prob_c1_x)/ len(prob_c1_x) ]\n",
    "\n",
    "mean = [sum([x[0] * x[1] for x in zip(prob_c0_x, data)]) / sum(prob_c0_x), \n",
    "        sum([x[0] * x[1] for x in zip(prob_c1_x, data)]) / sum(prob_c1_x) ]\n",
    "\n",
    "var = [sum([x[0] * ((x[1] - mean[0]) ** 2) for x in zip(prob_c0_x, data)]) / sum(prob_c0_x),\n",
    "       sum([x[0] * ((x[1] - mean[1]) ** 2) for x in zip(prob_c1_x, data)]) / sum(prob_c1_x)]\n",
    "\n",
    "print(\"P(S_1) = \" + str(prob_c[0]) + \",  P(S_2) = \" + str(prob_c[1]))\n",
    "print(\"mean_1 = \" + str(mean[0]) + \",  mean_2 = \" + str(mean[1]))\n",
    "print(\"var_1 = \" + str(var[0]) + \",  var_2 = \" + str(var[1]))"
   ]
  },
  {
   "cell_type": "markdown",
   "metadata": {},
   "source": []
  },
  {
   "cell_type": "markdown",
   "metadata": {},
   "source": [
    "g) Update `P(S_j | X_i)`. Comment on any differences or lack thereof you observe."
   ]
  },
  {
   "cell_type": "code",
   "execution_count": 13,
   "metadata": {},
   "outputs": [
    {
     "name": "stdout",
     "output_type": "stream",
     "text": [
      "8.332715005252105\n",
      "Probability of coming from C_1 = 1.0\n",
      "Probability of coming from C_2 = 4.269889455160331e-139\n",
      "\n",
      "7.160974002337633\n",
      "Probability of coming from C_1 = 1.0\n",
      "Probability of coming from C_2 = 4.3531971812219014e-52\n",
      "\n",
      "5.064563289099195\n",
      "Probability of coming from C_1 = 3.479765188604179e-05\n",
      "Probability of coming from C_2 = 0.999965202348114\n",
      "\n",
      "8.222202873157697\n",
      "Probability of coming from C_1 = 1.0\n",
      "Probability of coming from C_2 = 3.5136786997528865e-129\n",
      "\n",
      "5.156428820428055\n",
      "Probability of coming from C_1 = 2.0130300201167644e-05\n",
      "Probability of coming from C_2 = 0.9999798696997989\n",
      "\n",
      "6.513545950077837\n",
      "Probability of coming from C_1 = 1.0\n",
      "Probability of coming from C_2 = 3.5421110090524815e-21\n",
      "\n",
      "8.52788962937136\n",
      "Probability of coming from C_1 = 1.0\n",
      "Probability of coming from C_2 = 1.7762151586004168e-157\n",
      "\n",
      "5.251499336629243\n",
      "Probability of coming from C_1 = 2.0742347161171083e-05\n",
      "Probability of coming from C_2 = 0.9999792576528388\n",
      "\n",
      "6.997556136918242\n",
      "Probability of coming from C_1 = 1.0\n",
      "Probability of coming from C_2 = 3.9234647655971346e-43\n",
      "\n",
      "5.455327214632914\n",
      "Probability of coming from C_1 = 0.0001708332742892279\n",
      "Probability of coming from C_2 = 0.9998291667257108\n",
      "\n"
     ]
    }
   ],
   "source": [
    "prob_c0_x = [] # P(C_0 | X_i)\n",
    "prob_c1_x = [] # P(C_1 | X_i)\n",
    "prob_x = [] # P(X_i)\n",
    "\n",
    "k = 2\n",
    "\n",
    "for p in data:\n",
    "    pdf_i = []\n",
    "\n",
    "    for j in range(k):\n",
    "        # P(X_i | C_j)\n",
    "        pdf_i.append(norm.pdf(p, mean[j], var[j]))\n",
    "        # print(\"probability of observing that point if it came from cluster \" + str(j) + \" = \", pdf_i[j])\n",
    "        # P(C_j) already computed\n",
    "        # prob_c[j]\n",
    "\n",
    "    # P(X_i) = P(C_0)P(X_i | C_0) + P(C_1)P(X_i | C_1)\n",
    "    prob_x = prob_c[0] * pdf_i[0] + prob_c[1] * pdf_i[1]\n",
    "\n",
    "    # P(C_j | X_i) = P(X_i | C_j)P(C_j) / P(X_i)\n",
    "    prob_c0_x.append( pdf_i[0] * prob_c[0] / prob_x )\n",
    "    prob_c1_x.append( pdf_i[1] * prob_c[1] / prob_x )\n",
    "\n",
    "probs = zip(data, prob_c0_x, prob_c1_x)\n",
    "\n",
    "for p in probs:\n",
    "    print(p[0])\n",
    "    print(\"Probability of coming from C_1 = \" + str(p[1]))\n",
    "    print(\"Probability of coming from C_2 = \" + str(p[2]))\n",
    "    print()\n"
   ]
  },
  {
   "cell_type": "code",
   "execution_count": null,
   "metadata": {},
   "outputs": [],
   "source": []
  },
  {
   "cell_type": "markdown",
   "metadata": {},
   "source": [
    "h) Use `P(S_j | X_i)` to create a hard assignment - label each point as belonging to a specific cluster (0 or 1)"
   ]
  },
  {
   "cell_type": "code",
   "execution_count": 14,
   "metadata": {},
   "outputs": [
    {
     "name": "stdout",
     "output_type": "stream",
     "text": [
      "8.332715005252105\n",
      "belongs to cluster 1\n",
      "\n",
      "7.160974002337633\n",
      "belongs to cluster 1\n",
      "\n",
      "5.064563289099195\n",
      "belongs to cluster 2\n",
      "\n",
      "8.222202873157697\n",
      "belongs to cluster 1\n",
      "\n",
      "5.156428820428055\n",
      "belongs to cluster 2\n",
      "\n",
      "6.513545950077837\n",
      "belongs to cluster 1\n",
      "\n",
      "8.52788962937136\n",
      "belongs to cluster 1\n",
      "\n",
      "5.251499336629243\n",
      "belongs to cluster 2\n",
      "\n",
      "6.997556136918242\n",
      "belongs to cluster 1\n",
      "\n",
      "5.455327214632914\n",
      "belongs to cluster 2\n",
      "\n"
     ]
    }
   ],
   "source": [
    "probs = zip(data, prob_c0_x, prob_c1_x)\n",
    "\n",
    "for p in probs:\n",
    "    print(p[0])\n",
    "\n",
    "    if p[1] > p[2]:\n",
    "        print(\"belongs to cluster 1\\n\")\n",
    "    elif p[1] < p[2]:\n",
    "        print(\"belongs to cluster 2\\n\")\n",
    "    else:\n",
    "        print(\"Ambiguous\\n\")\n",
    "    \n"
   ]
  },
  {
   "cell_type": "code",
   "execution_count": null,
   "metadata": {},
   "outputs": [],
   "source": []
  }
 ],
 "metadata": {
  "kernelspec": {
   "display_name": "Python 3 (ipykernel)",
   "language": "python",
   "name": "python3"
  },
  "language_info": {
   "codemirror_mode": {
    "name": "ipython",
    "version": 3
   },
   "file_extension": ".py",
   "mimetype": "text/x-python",
   "name": "python",
   "nbconvert_exporter": "python",
   "pygments_lexer": "ipython3",
   "version": "3.11.5"
  },
  "vscode": {
   "interpreter": {
    "hash": "e7370f93d1d0cde622a1f8e1c04877d8463912d04d973331ad4851f04de6915a"
   }
  }
 },
 "nbformat": 4,
 "nbformat_minor": 4
}
